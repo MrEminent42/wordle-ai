{
  "nbformat": 4,
  "nbformat_minor": 0,
  "metadata": {
    "colab": {
      "name": "WordleAI Test.ipynb",
      "provenance": [],
      "collapsed_sections": [
        "G3KCGZRIuxOj"
      ],
      "authorship_tag": "ABX9TyP0n+Gz2KfCyyI6q6hOwW5c",
      "include_colab_link": true
    },
    "kernelspec": {
      "name": "python3",
      "display_name": "Python 3"
    },
    "language_info": {
      "name": "python"
    }
  },
  "cells": [
    {
      "cell_type": "markdown",
      "metadata": {
        "id": "view-in-github",
        "colab_type": "text"
      },
      "source": [
        "<a href=\"https://colab.research.google.com/github/MrEminent42/wordle-ai/blob/main/WordleAI_Test.ipynb\" target=\"_parent\"><img src=\"https://colab.research.google.com/assets/colab-badge.svg\" alt=\"Open In Colab\"/></a>"
      ]
    },
    {
      "cell_type": "markdown",
      "source": [
        "## WordleGame"
      ],
      "metadata": {
        "id": "G3KCGZRIuxOj"
      }
    },
    {
      "cell_type": "code",
      "execution_count": 2,
      "metadata": {
        "id": "4USCxi7juG70"
      },
      "outputs": [],
      "source": [
        "from enum import IntEnum\n",
        "from termcolor import colored\n",
        "\n",
        "\n",
        "class WordleGame:\n",
        "    def __init__(self, answer):\n",
        "        self.answer = answer.upper()\n",
        "        self.board = []\n",
        "        self.is_over = False\n",
        "        self.win = False\n",
        "\n",
        "    def __repr__(self):\n",
        "        s = \"\"\n",
        "        # in each line\n",
        "        for i, line in enumerate(self.board):\n",
        "            colors = self.get_colors(self.get_line_string(i))\n",
        "            for i, tile in enumerate(line):\n",
        "                # for i, char in enumerate(line):\n",
        "                s += (\n",
        "                    colored(tile.char, \"white\")\n",
        "                    if tile.color == Color.GREY\n",
        "                    else (\n",
        "                        colored(tile.char, \"magenta\")\n",
        "                        if tile.color == Color.YELLOW\n",
        "                        else colored(tile.char, \"green\")\n",
        "                    )\n",
        "                )\n",
        "            s += \"\\n\"\n",
        "\n",
        "        return s\n",
        "\n",
        "    def guess(self, guess):\n",
        "        \"\"\"Takes a five-letter guess, records this guess on the game's board.\n",
        "        Returns the array of Colors with each index corresponding to the color of the letter at that index in the guess\"\"\"\n",
        "        tiles = []\n",
        "        if len(guess) != 5:\n",
        "            raise ValueError(\n",
        "                'Wordle guess must be a 5-letter word. Could not guess with word \"'\n",
        "                + guess\n",
        "                + '\".'\n",
        "            )\n",
        "        # convert everything to upper case\n",
        "        guess = guess.upper()\n",
        "        colors = self.get_colors(guess)\n",
        "        # log guess to board\n",
        "        tiles = [Tile(guess[i], colors[i]) for i in range(5)]\n",
        "        self.board.append(tiles)\n",
        "\n",
        "        print(\"LOGGED COLOR \" + str(int(colors[1])))\n",
        "\n",
        "        # check for game over\n",
        "        if len(self.board) >= 6:\n",
        "            self.is_over = True\n",
        "        elif guess == self.answer:\n",
        "            self.is_over = self.win = True\n",
        "\n",
        "        # give back list of colors\n",
        "        return colors\n",
        "\n",
        "    def get_colors(self, guess):\n",
        "        \"\"\"Takes in a five-letter guess, returns an array of Colors with\n",
        "        each index corresponding to the color of the letter at that index in the guess.\"\"\"\n",
        "        if len(guess) != 5:\n",
        "            raise ValueError(\n",
        "                'Can only find colors for words of length 5. Could not find colors for word \"'\n",
        "                + guess\n",
        "                + '\"'\n",
        "            )\n",
        "        colors = []\n",
        "        # occurrences_left = {char: self.answer.count(char) for char in self.answer}\n",
        "        occurrences_left = {}\n",
        "        # more efficient way of counting num occurences\n",
        "        for char in self.answer:\n",
        "            if char in occurrences_left:\n",
        "                occurrences_left[char] += 1\n",
        "            else:\n",
        "                occurrences_left[char] = 1\n",
        "\n",
        "        for i, char in enumerate(guess):\n",
        "            # if the character is in the correct place, green\n",
        "            if self.answer[i] == char:\n",
        "                colors.append(Color.GREEN)\n",
        "                occurrences_left[char] -= 1\n",
        "            # if the character is in the word, but in the wrong place\n",
        "            elif char in self.answer:\n",
        "                # if there are stil occurences of this char that have not been accounted for\n",
        "                if occurrences_left[char] > 0:\n",
        "                    # append a yellow tile\n",
        "                    colors.append(Color.YELLOW)\n",
        "                    # record that we have accounted for this occurence\n",
        "                    occurrences_left[char] -= 1\n",
        "                else:\n",
        "                    colors.append(Color.GREY)\n",
        "            else:\n",
        "                colors.append(Color.GREY)\n",
        "\n",
        "        return colors\n",
        "\n",
        "    def get_line_string(self, i):\n",
        "        s = \"\"\n",
        "        for tile in self.board[i]:\n",
        "            s += tile.char\n",
        "        return s\n",
        "\n",
        "    def is_over(self):\n",
        "        return self.is_over\n",
        "\n",
        "    def run_game(self):\n",
        "        print(\"Welcome to Wordle-AI!\")\n",
        "        while not self.is_over:\n",
        "            self.guess(input(\"Guess: \"))\n",
        "            print(self)\n",
        "        if self.win:\n",
        "            print(\"Congrats! You found the word in \" + str(len(self.board)) + \" tries.\")\n",
        "        else:\n",
        "            print(\"Darn! You didn't find the word. It was \" + self.answer + \".\")\n",
        "\n",
        "\n",
        "class Color(IntEnum):\n",
        "    GREY = GRAY = 0\n",
        "    YELLOW = 1\n",
        "    GREEN = 2\n",
        "\n",
        "\n",
        "class Tile:\n",
        "    def __init__(self, character, color):\n",
        "        self.char = character\n",
        "        self.color = color"
      ]
    },
    {
      "cell_type": "markdown",
      "source": [
        "## DQN\n",
        "Based on https://www.tensorflow.org/agents/tutorials/1_dqn_tutorial"
      ],
      "metadata": {
        "id": "akUNya1tu1KR"
      }
    },
    {
      "cell_type": "markdown",
      "source": [
        "### TF Setup"
      ],
      "metadata": {
        "id": "621fHRwsvWRE"
      }
    },
    {
      "cell_type": "code",
      "source": [
        "!sudo apt-get update\n",
        "!sudo apt-get install -y xvfb ffmpeg freeglut3-dev\n",
        "!pip install 'imageio==2.4.0'\n",
        "!pip install pyvirtualdisplay\n",
        "!pip install tf-agents[reverb]\n",
        "!pip install pyglet"
      ],
      "metadata": {
        "id": "pgZjknCBuXvG",
        "colab": {
          "base_uri": "https://localhost:8080/",
          "height": 1000
        },
        "outputId": "d8c0c744-64eb-4914-8380-0da2dbc3c69f"
      },
      "execution_count": 4,
      "outputs": [
        {
          "output_type": "stream",
          "name": "stdout",
          "text": [
            "\r0% [Working]\r            \rGet:1 http://security.ubuntu.com/ubuntu bionic-security InRelease [88.7 kB]\n",
            "\r0% [Connecting to archive.ubuntu.com] [1 InRelease 14.2 kB/88.7 kB 16%] [Connec\r                                                                               \rGet:2 https://developer.download.nvidia.com/compute/cuda/repos/ubuntu1804/x86_64  InRelease [1,581 B]\n",
            "Get:3 https://cloud.r-project.org/bin/linux/ubuntu bionic-cran40/ InRelease [3,626 B]\n",
            "Ign:4 https://developer.download.nvidia.com/compute/machine-learning/repos/ubuntu1804/x86_64  InRelease\n",
            "Hit:5 https://developer.download.nvidia.com/compute/machine-learning/repos/ubuntu1804/x86_64  Release\n",
            "Get:6 http://ppa.launchpad.net/c2d4u.team/c2d4u4.0+/ubuntu bionic InRelease [15.9 kB]\n",
            "Get:7 https://developer.download.nvidia.com/compute/cuda/repos/ubuntu1804/x86_64  Packages [787 kB]\n",
            "Hit:8 http://archive.ubuntu.com/ubuntu bionic InRelease\n",
            "Get:9 http://archive.ubuntu.com/ubuntu bionic-updates InRelease [88.7 kB]\n",
            "Hit:10 http://ppa.launchpad.net/cran/libgit2/ubuntu bionic InRelease\n",
            "Get:11 http://security.ubuntu.com/ubuntu bionic-security/universe amd64 Packages [1,507 kB]\n",
            "Get:13 http://ppa.launchpad.net/deadsnakes/ppa/ubuntu bionic InRelease [15.9 kB]\n",
            "Get:14 http://security.ubuntu.com/ubuntu bionic-security/restricted amd64 Packages [954 kB]\n",
            "Get:15 http://security.ubuntu.com/ubuntu bionic-security/main amd64 Packages [2,792 kB]\n",
            "Get:16 http://archive.ubuntu.com/ubuntu bionic-backports InRelease [74.6 kB]\n",
            "Get:17 http://security.ubuntu.com/ubuntu bionic-security/multiverse amd64 Packages [22.8 kB]\n",
            "Get:18 http://ppa.launchpad.net/graphics-drivers/ppa/ubuntu bionic InRelease [21.3 kB]\n",
            "Get:19 http://ppa.launchpad.net/c2d4u.team/c2d4u4.0+/ubuntu bionic/main Sources [1,971 kB]\n",
            "Get:20 http://archive.ubuntu.com/ubuntu bionic-updates/multiverse amd64 Packages [29.8 kB]\n",
            "Get:21 http://archive.ubuntu.com/ubuntu bionic-updates/restricted amd64 Packages [988 kB]\n",
            "Get:22 http://archive.ubuntu.com/ubuntu bionic-updates/main amd64 Packages [3,223 kB]\n",
            "Get:23 http://archive.ubuntu.com/ubuntu bionic-updates/universe amd64 Packages [2,281 kB]\n",
            "Get:24 http://ppa.launchpad.net/c2d4u.team/c2d4u4.0+/ubuntu bionic/main amd64 Packages [1,011 kB]\n",
            "Get:25 http://ppa.launchpad.net/deadsnakes/ppa/ubuntu bionic/main amd64 Packages [45.3 kB]\n",
            "Get:26 http://ppa.launchpad.net/graphics-drivers/ppa/ubuntu bionic/main amd64 Packages [44.3 kB]\n",
            "Fetched 16.0 MB in 4s (4,162 kB/s)\n",
            "Reading package lists... Done\n",
            "Reading package lists... Done\n",
            "Building dependency tree       \n",
            "Reading state information... Done\n",
            "freeglut3-dev is already the newest version (2.8.1-3).\n",
            "freeglut3-dev set to manually installed.\n",
            "ffmpeg is already the newest version (7:3.4.8-0ubuntu0.2).\n",
            "The following package was automatically installed and is no longer required:\n",
            "  libnvidia-common-460\n",
            "Use 'sudo apt autoremove' to remove it.\n",
            "The following NEW packages will be installed:\n",
            "  xvfb\n",
            "0 upgraded, 1 newly installed, 0 to remove and 63 not upgraded.\n",
            "Need to get 784 kB of archives.\n",
            "After this operation, 2,271 kB of additional disk space will be used.\n",
            "Get:1 http://archive.ubuntu.com/ubuntu bionic-updates/universe amd64 xvfb amd64 2:1.19.6-1ubuntu4.10 [784 kB]\n",
            "Fetched 784 kB in 1s (880 kB/s)\n",
            "debconf: unable to initialize frontend: Dialog\n",
            "debconf: (No usable dialog-like program is installed, so the dialog based frontend cannot be used. at /usr/share/perl5/Debconf/FrontEnd/Dialog.pm line 76, <> line 1.)\n",
            "debconf: falling back to frontend: Readline\n",
            "debconf: unable to initialize frontend: Readline\n",
            "debconf: (This frontend requires a controlling tty.)\n",
            "debconf: falling back to frontend: Teletype\n",
            "dpkg-preconfigure: unable to re-open stdin: \n",
            "Selecting previously unselected package xvfb.\n",
            "(Reading database ... 155629 files and directories currently installed.)\n",
            "Preparing to unpack .../xvfb_2%3a1.19.6-1ubuntu4.10_amd64.deb ...\n",
            "Unpacking xvfb (2:1.19.6-1ubuntu4.10) ...\n",
            "Setting up xvfb (2:1.19.6-1ubuntu4.10) ...\n",
            "Processing triggers for man-db (2.8.3-2ubuntu0.1) ...\n",
            "Looking in indexes: https://pypi.org/simple, https://us-python.pkg.dev/colab-wheels/public/simple/\n",
            "Collecting imageio==2.4.0\n",
            "  Downloading imageio-2.4.0.tar.gz (3.3 MB)\n",
            "\u001b[K     |████████████████████████████████| 3.3 MB 5.3 MB/s \n",
            "\u001b[?25hRequirement already satisfied: numpy in /usr/local/lib/python3.7/dist-packages (from imageio==2.4.0) (1.21.6)\n",
            "Requirement already satisfied: pillow in /usr/local/lib/python3.7/dist-packages (from imageio==2.4.0) (7.1.2)\n",
            "Building wheels for collected packages: imageio\n",
            "  Building wheel for imageio (setup.py) ... \u001b[?25l\u001b[?25hdone\n",
            "  Created wheel for imageio: filename=imageio-2.4.0-py3-none-any.whl size=3303895 sha256=dd6acaa389d99268936269ac73e8b4dfe974ba75f9eff85aaa4831a7c46c4cc1\n",
            "  Stored in directory: /root/.cache/pip/wheels/aa/de/2f/6c5a75120d68a2c3138120c8d0ce1c6f9483a4b96307986bf2\n",
            "Successfully built imageio\n",
            "Installing collected packages: imageio\n",
            "  Attempting uninstall: imageio\n",
            "    Found existing installation: imageio 2.4.1\n",
            "    Uninstalling imageio-2.4.1:\n",
            "      Successfully uninstalled imageio-2.4.1\n",
            "\u001b[31mERROR: pip's dependency resolver does not currently take into account all the packages that are installed. This behaviour is the source of the following dependency conflicts.\n",
            "albumentations 0.1.12 requires imgaug<0.2.7,>=0.2.5, but you have imgaug 0.2.9 which is incompatible.\u001b[0m\n",
            "Successfully installed imageio-2.4.0\n"
          ]
        },
        {
          "output_type": "display_data",
          "data": {
            "application/vnd.colab-display-data+json": {
              "pip_warning": {
                "packages": [
                  "imageio"
                ]
              }
            }
          },
          "metadata": {}
        },
        {
          "output_type": "stream",
          "name": "stdout",
          "text": [
            "Looking in indexes: https://pypi.org/simple, https://us-python.pkg.dev/colab-wheels/public/simple/\n",
            "Collecting pyvirtualdisplay\n",
            "  Downloading PyVirtualDisplay-3.0-py3-none-any.whl (15 kB)\n",
            "Installing collected packages: pyvirtualdisplay\n",
            "Successfully installed pyvirtualdisplay-3.0\n",
            "Looking in indexes: https://pypi.org/simple, https://us-python.pkg.dev/colab-wheels/public/simple/\n",
            "Collecting tf-agents[reverb]\n",
            "  Downloading tf_agents-0.12.1-py3-none-any.whl (1.3 MB)\n",
            "\u001b[K     |████████████████████████████████| 1.3 MB 5.3 MB/s \n",
            "\u001b[?25hRequirement already satisfied: cloudpickle>=1.3 in /usr/local/lib/python3.7/dist-packages (from tf-agents[reverb]) (1.3.0)\n",
            "Requirement already satisfied: gym>=0.17.0 in /usr/local/lib/python3.7/dist-packages (from tf-agents[reverb]) (0.17.3)\n",
            "Requirement already satisfied: pillow in /usr/local/lib/python3.7/dist-packages (from tf-agents[reverb]) (7.1.2)\n",
            "Requirement already satisfied: typing-extensions>=3.7.4.3 in /usr/local/lib/python3.7/dist-packages (from tf-agents[reverb]) (4.2.0)\n",
            "Requirement already satisfied: gin-config>=0.4.0 in /usr/local/lib/python3.7/dist-packages (from tf-agents[reverb]) (0.5.0)\n",
            "Requirement already satisfied: absl-py>=0.6.1 in /usr/local/lib/python3.7/dist-packages (from tf-agents[reverb]) (1.0.0)\n",
            "Requirement already satisfied: tensorflow-probability>=0.16.0 in /usr/local/lib/python3.7/dist-packages (from tf-agents[reverb]) (0.16.0)\n",
            "Requirement already satisfied: wrapt>=1.11.1 in /usr/local/lib/python3.7/dist-packages (from tf-agents[reverb]) (1.14.1)\n",
            "Requirement already satisfied: protobuf>=3.11.3 in /usr/local/lib/python3.7/dist-packages (from tf-agents[reverb]) (3.17.3)\n",
            "Requirement already satisfied: numpy>=1.13.3 in /usr/local/lib/python3.7/dist-packages (from tf-agents[reverb]) (1.21.6)\n",
            "Requirement already satisfied: six>=1.10.0 in /usr/local/lib/python3.7/dist-packages (from tf-agents[reverb]) (1.15.0)\n",
            "Collecting pygame==2.1.0\n",
            "  Downloading pygame-2.1.0-cp37-cp37m-manylinux_2_17_x86_64.manylinux2014_x86_64.whl (18.3 MB)\n",
            "\u001b[K     |████████████████████████████████| 18.3 MB 1.2 MB/s \n",
            "\u001b[?25hCollecting dm-reverb~=0.7.0\n",
            "  Downloading dm_reverb-0.7.3-cp37-cp37m-manylinux2010_x86_64.whl (6.4 MB)\n",
            "\u001b[K     |████████████████████████████████| 6.4 MB 8.9 MB/s \n",
            "\u001b[?25hRequirement already satisfied: tensorflow~=2.8.0 in /usr/local/lib/python3.7/dist-packages (from tf-agents[reverb]) (2.8.0+zzzcolab20220506162203)\n",
            "Requirement already satisfied: portpicker in /usr/local/lib/python3.7/dist-packages (from dm-reverb~=0.7.0->tf-agents[reverb]) (1.3.9)\n",
            "Requirement already satisfied: dm-tree in /usr/local/lib/python3.7/dist-packages (from dm-reverb~=0.7.0->tf-agents[reverb]) (0.1.7)\n",
            "Requirement already satisfied: scipy in /usr/local/lib/python3.7/dist-packages (from gym>=0.17.0->tf-agents[reverb]) (1.4.1)\n",
            "Requirement already satisfied: pyglet<=1.5.0,>=1.4.0 in /usr/local/lib/python3.7/dist-packages (from gym>=0.17.0->tf-agents[reverb]) (1.5.0)\n",
            "Requirement already satisfied: future in /usr/local/lib/python3.7/dist-packages (from pyglet<=1.5.0,>=1.4.0->gym>=0.17.0->tf-agents[reverb]) (0.16.0)\n",
            "Requirement already satisfied: google-pasta>=0.1.1 in /usr/local/lib/python3.7/dist-packages (from tensorflow~=2.8.0->tf-agents[reverb]) (0.2.0)\n",
            "Requirement already satisfied: astunparse>=1.6.0 in /usr/local/lib/python3.7/dist-packages (from tensorflow~=2.8.0->tf-agents[reverb]) (1.6.3)\n",
            "Requirement already satisfied: termcolor>=1.1.0 in /usr/local/lib/python3.7/dist-packages (from tensorflow~=2.8.0->tf-agents[reverb]) (1.1.0)\n",
            "Requirement already satisfied: flatbuffers>=1.12 in /usr/local/lib/python3.7/dist-packages (from tensorflow~=2.8.0->tf-agents[reverb]) (2.0)\n",
            "Requirement already satisfied: keras<2.9,>=2.8.0rc0 in /usr/local/lib/python3.7/dist-packages (from tensorflow~=2.8.0->tf-agents[reverb]) (2.8.0)\n",
            "Requirement already satisfied: keras-preprocessing>=1.1.1 in /usr/local/lib/python3.7/dist-packages (from tensorflow~=2.8.0->tf-agents[reverb]) (1.1.2)\n",
            "Requirement already satisfied: libclang>=9.0.1 in /usr/local/lib/python3.7/dist-packages (from tensorflow~=2.8.0->tf-agents[reverb]) (14.0.1)\n",
            "Requirement already satisfied: tensorflow-io-gcs-filesystem>=0.23.1 in /usr/local/lib/python3.7/dist-packages (from tensorflow~=2.8.0->tf-agents[reverb]) (0.26.0)\n",
            "Requirement already satisfied: setuptools in /usr/local/lib/python3.7/dist-packages (from tensorflow~=2.8.0->tf-agents[reverb]) (57.4.0)\n",
            "Requirement already satisfied: grpcio<2.0,>=1.24.3 in /usr/local/lib/python3.7/dist-packages (from tensorflow~=2.8.0->tf-agents[reverb]) (1.46.1)\n",
            "Requirement already satisfied: h5py>=2.9.0 in /usr/local/lib/python3.7/dist-packages (from tensorflow~=2.8.0->tf-agents[reverb]) (3.1.0)\n",
            "Requirement already satisfied: tensorboard<2.9,>=2.8 in /usr/local/lib/python3.7/dist-packages (from tensorflow~=2.8.0->tf-agents[reverb]) (2.8.0)\n",
            "Requirement already satisfied: gast>=0.2.1 in /usr/local/lib/python3.7/dist-packages (from tensorflow~=2.8.0->tf-agents[reverb]) (0.5.3)\n",
            "Collecting tf-estimator-nightly==2.8.0.dev2021122109\n",
            "  Downloading tf_estimator_nightly-2.8.0.dev2021122109-py2.py3-none-any.whl (462 kB)\n",
            "\u001b[K     |████████████████████████████████| 462 kB 46.5 MB/s \n",
            "\u001b[?25hRequirement already satisfied: opt-einsum>=2.3.2 in /usr/local/lib/python3.7/dist-packages (from tensorflow~=2.8.0->tf-agents[reverb]) (3.3.0)\n",
            "Requirement already satisfied: wheel<1.0,>=0.23.0 in /usr/local/lib/python3.7/dist-packages (from astunparse>=1.6.0->tensorflow~=2.8.0->tf-agents[reverb]) (0.37.1)\n",
            "Requirement already satisfied: cached-property in /usr/local/lib/python3.7/dist-packages (from h5py>=2.9.0->tensorflow~=2.8.0->tf-agents[reverb]) (1.5.2)\n",
            "Requirement already satisfied: werkzeug>=0.11.15 in /usr/local/lib/python3.7/dist-packages (from tensorboard<2.9,>=2.8->tensorflow~=2.8.0->tf-agents[reverb]) (1.0.1)\n",
            "Requirement already satisfied: google-auth<3,>=1.6.3 in /usr/local/lib/python3.7/dist-packages (from tensorboard<2.9,>=2.8->tensorflow~=2.8.0->tf-agents[reverb]) (1.35.0)\n",
            "Requirement already satisfied: tensorboard-data-server<0.7.0,>=0.6.0 in /usr/local/lib/python3.7/dist-packages (from tensorboard<2.9,>=2.8->tensorflow~=2.8.0->tf-agents[reverb]) (0.6.1)\n",
            "Requirement already satisfied: google-auth-oauthlib<0.5,>=0.4.1 in /usr/local/lib/python3.7/dist-packages (from tensorboard<2.9,>=2.8->tensorflow~=2.8.0->tf-agents[reverb]) (0.4.6)\n",
            "Requirement already satisfied: tensorboard-plugin-wit>=1.6.0 in /usr/local/lib/python3.7/dist-packages (from tensorboard<2.9,>=2.8->tensorflow~=2.8.0->tf-agents[reverb]) (1.8.1)\n",
            "Requirement already satisfied: markdown>=2.6.8 in /usr/local/lib/python3.7/dist-packages (from tensorboard<2.9,>=2.8->tensorflow~=2.8.0->tf-agents[reverb]) (3.3.7)\n",
            "Requirement already satisfied: requests<3,>=2.21.0 in /usr/local/lib/python3.7/dist-packages (from tensorboard<2.9,>=2.8->tensorflow~=2.8.0->tf-agents[reverb]) (2.23.0)\n",
            "Requirement already satisfied: pyasn1-modules>=0.2.1 in /usr/local/lib/python3.7/dist-packages (from google-auth<3,>=1.6.3->tensorboard<2.9,>=2.8->tensorflow~=2.8.0->tf-agents[reverb]) (0.2.8)\n",
            "Requirement already satisfied: cachetools<5.0,>=2.0.0 in /usr/local/lib/python3.7/dist-packages (from google-auth<3,>=1.6.3->tensorboard<2.9,>=2.8->tensorflow~=2.8.0->tf-agents[reverb]) (4.2.4)\n",
            "Requirement already satisfied: rsa<5,>=3.1.4 in /usr/local/lib/python3.7/dist-packages (from google-auth<3,>=1.6.3->tensorboard<2.9,>=2.8->tensorflow~=2.8.0->tf-agents[reverb]) (4.8)\n",
            "Requirement already satisfied: requests-oauthlib>=0.7.0 in /usr/local/lib/python3.7/dist-packages (from google-auth-oauthlib<0.5,>=0.4.1->tensorboard<2.9,>=2.8->tensorflow~=2.8.0->tf-agents[reverb]) (1.3.1)\n",
            "Requirement already satisfied: importlib-metadata>=4.4 in /usr/local/lib/python3.7/dist-packages (from markdown>=2.6.8->tensorboard<2.9,>=2.8->tensorflow~=2.8.0->tf-agents[reverb]) (4.11.3)\n",
            "Requirement already satisfied: zipp>=0.5 in /usr/local/lib/python3.7/dist-packages (from importlib-metadata>=4.4->markdown>=2.6.8->tensorboard<2.9,>=2.8->tensorflow~=2.8.0->tf-agents[reverb]) (3.8.0)\n",
            "Requirement already satisfied: pyasn1<0.5.0,>=0.4.6 in /usr/local/lib/python3.7/dist-packages (from pyasn1-modules>=0.2.1->google-auth<3,>=1.6.3->tensorboard<2.9,>=2.8->tensorflow~=2.8.0->tf-agents[reverb]) (0.4.8)\n",
            "Requirement already satisfied: urllib3!=1.25.0,!=1.25.1,<1.26,>=1.21.1 in /usr/local/lib/python3.7/dist-packages (from requests<3,>=2.21.0->tensorboard<2.9,>=2.8->tensorflow~=2.8.0->tf-agents[reverb]) (1.24.3)\n",
            "Requirement already satisfied: certifi>=2017.4.17 in /usr/local/lib/python3.7/dist-packages (from requests<3,>=2.21.0->tensorboard<2.9,>=2.8->tensorflow~=2.8.0->tf-agents[reverb]) (2022.5.18.1)\n",
            "Requirement already satisfied: chardet<4,>=3.0.2 in /usr/local/lib/python3.7/dist-packages (from requests<3,>=2.21.0->tensorboard<2.9,>=2.8->tensorflow~=2.8.0->tf-agents[reverb]) (3.0.4)\n",
            "Requirement already satisfied: idna<3,>=2.5 in /usr/local/lib/python3.7/dist-packages (from requests<3,>=2.21.0->tensorboard<2.9,>=2.8->tensorflow~=2.8.0->tf-agents[reverb]) (2.10)\n",
            "Requirement already satisfied: oauthlib>=3.0.0 in /usr/local/lib/python3.7/dist-packages (from requests-oauthlib>=0.7.0->google-auth-oauthlib<0.5,>=0.4.1->tensorboard<2.9,>=2.8->tensorflow~=2.8.0->tf-agents[reverb]) (3.2.0)\n",
            "Requirement already satisfied: decorator in /usr/local/lib/python3.7/dist-packages (from tensorflow-probability>=0.16.0->tf-agents[reverb]) (4.4.2)\n",
            "Installing collected packages: tf-estimator-nightly, pygame, tf-agents, dm-reverb\n",
            "Successfully installed dm-reverb-0.7.3 pygame-2.1.0 tf-agents-0.12.1 tf-estimator-nightly-2.8.0.dev2021122109\n",
            "Looking in indexes: https://pypi.org/simple, https://us-python.pkg.dev/colab-wheels/public/simple/\n",
            "Requirement already satisfied: pyglet in /usr/local/lib/python3.7/dist-packages (1.5.0)\n",
            "Requirement already satisfied: future in /usr/local/lib/python3.7/dist-packages (from pyglet) (0.16.0)\n"
          ]
        }
      ]
    },
    {
      "cell_type": "code",
      "source": [
        "from __future__ import absolute_import, division, print_function\n",
        "\n",
        "import base64\n",
        "import imageio\n",
        "import IPython\n",
        "import matplotlib\n",
        "import matplotlib.pyplot as plt\n",
        "import numpy as np\n",
        "import PIL.Image\n",
        "import pyvirtualdisplay\n",
        "import reverb\n",
        "\n",
        "import tensorflow as tf\n",
        "\n",
        "from tf_agents.agents.dqn import dqn_agent\n",
        "from tf_agents.drivers import py_driver\n",
        "from tf_agents.environments import suite_gym\n",
        "from tf_agents.environments import tf_py_environment\n",
        "from tf_agents.eval import metric_utils\n",
        "from tf_agents.metrics import tf_metrics\n",
        "from tf_agents.networks import sequential\n",
        "from tf_agents.policies import py_tf_eager_policy\n",
        "from tf_agents.policies import random_tf_policy\n",
        "from tf_agents.replay_buffers import reverb_replay_buffer\n",
        "from tf_agents.replay_buffers import reverb_utils\n",
        "from tf_agents.trajectories import trajectory\n",
        "from tf_agents.specs import tensor_spec\n",
        "from tf_agents.utils import common"
      ],
      "metadata": {
        "id": "hiX7OCh0uVdV"
      },
      "execution_count": 5,
      "outputs": []
    },
    {
      "cell_type": "markdown",
      "source": [
        "### Gym setup"
      ],
      "metadata": {
        "id": "31tTx_F4vYSV"
      }
    },
    {
      "cell_type": "code",
      "source": [
        "!pip install \"gym>=0.21.0\""
      ],
      "metadata": {
        "id": "NiYkYlGfvbxm"
      },
      "execution_count": null,
      "outputs": []
    },
    {
      "cell_type": "code",
      "source": [
        "from __future__ import absolute_import\n",
        "from __future__ import division\n",
        "from __future__ import print_function\n",
        "\n",
        "import abc\n",
        "import tensorflow as tf\n",
        "import numpy as np\n",
        "\n",
        "import random\n",
        "\n",
        "from tf_agents.environments import py_environment\n",
        "from tf_agents.environments import tf_environment\n",
        "from tf_agents.environments import tf_py_environment\n",
        "from tf_agents.environments import utils\n",
        "from tf_agents.specs import array_spec\n",
        "from tf_agents.environments import wrappers\n",
        "from tf_agents.environments import suite_gym\n",
        "from tf_agents.trajectories import time_step as ts"
      ],
      "metadata": {
        "id": "xVskUfdZveqt"
      },
      "execution_count": 6,
      "outputs": []
    },
    {
      "cell_type": "markdown",
      "source": [
        "#### Wordle Data Setup"
      ],
      "metadata": {
        "id": "5qx2BXGMmaza"
      }
    },
    {
      "cell_type": "code",
      "source": [
        "import requests\n",
        "import io\n",
        "\n",
        "import urllib.request\n",
        "import os\n",
        "from os import path"
      ],
      "metadata": {
        "id": "Asrp22bjzJGV"
      },
      "execution_count": 7,
      "outputs": []
    },
    {
      "cell_type": "code",
      "source": [
        "raw_data_source = \"https://raw.githubusercontent.com/tabatkins/wordle-list/main/words\"\n",
        "directory_name = \"WordleData\"\n",
        "file_name = \"wordList.txt\"\n",
        "\n",
        "\n",
        "def retrieve_data():\n",
        "    url_request = urllib.request.urlopen(raw_data_source)\n",
        "    data = url_request.read().decode(\"utf-8\")\n",
        "    return data\n",
        "\n",
        "\n",
        "def store_data():\n",
        "    if os.path.isfile(get_file_path()) == False:\n",
        "        data = retrieve_data()\n",
        "        os.mkdir(directory_name)\n",
        "        file = open(get_file_path(), \"w\")\n",
        "        file.write(data)\n",
        "        file.close\n",
        "\n",
        "\n",
        "def get_file_path():\n",
        "    return path.join(directory_name, file_name)\n"
      ],
      "metadata": {
        "id": "zSCOnRf4mfwS"
      },
      "execution_count": 8,
      "outputs": []
    },
    {
      "cell_type": "code",
      "source": [
        "store_data()\n",
        "\n",
        "find_word = {}\n",
        "find_num = {}\n",
        "\n",
        "with open(get_file_path()) as f:\n",
        "  words = f.readlines()\n",
        "\n",
        "for i in range(len(words)):\n",
        "  find_word[i] = words[i]\n",
        "  find_num[words[i]] = i\n",
        "\n",
        "num_words = len(find_word)\n",
        "num_words"
      ],
      "metadata": {
        "id": "lqcyaYfAzLOi",
        "colab": {
          "base_uri": "https://localhost:8080/"
        },
        "outputId": "8d0e3a35-c408-4670-b332-e4fdae9f5051"
      },
      "execution_count": 54,
      "outputs": [
        {
          "output_type": "execute_result",
          "data": {
            "text/plain": [
              "12947"
            ]
          },
          "metadata": {},
          "execution_count": 54
        }
      ]
    },
    {
      "cell_type": "markdown",
      "source": [
        "### Environment\n",
        "Based on https://www.tensorflow.org/agents/tutorials/2_environments_tutorial#creating_your_own_python_environment"
      ],
      "metadata": {
        "id": "JKfdj7qZvBMJ"
      }
    },
    {
      "cell_type": "code",
      "source": [
        "wordle_rows = 6 # @param {type:\"integer\"}\n",
        "wordle_cols = 5  # @param {type:\"integer\"}\n",
        "wordle_colors = 3  # @param {type:\"integer\"}\n",
        "\n",
        "english_letters = 26  # @param {type:\"integer\"}"
      ],
      "metadata": {
        "id": "wyA-fOYTpufe"
      },
      "execution_count": 10,
      "outputs": []
    },
    {
      "cell_type": "code",
      "source": [
        "import random\n",
        "\n",
        "def get_observation_array(game):\n",
        "  obs = np.zeros((wordle_rows * wordle_cols, english_letters, wordle_colors))\n",
        "  # for every tile on the board\n",
        "  for row in range(len(game.board)):\n",
        "    for col in range(len(game.board[row])):\n",
        "      char = game.board[row][col].char\n",
        "      color = game.board[row][col].color\n",
        "      obs[row * 5 + col,ord(char) - 65,int(color)] = 1\n",
        "\n",
        "  return obs\n",
        "\n",
        "def get_reward(game):\n",
        "  sum = 0\n",
        "  for row in game.board:\n",
        "    for tile in row:\n",
        "      sum += int(tile.color) + 1\n",
        "  return sum"
      ],
      "metadata": {
        "id": "FNOPczmKojWq"
      },
      "execution_count": 11,
      "outputs": []
    },
    {
      "cell_type": "code",
      "source": [
        "# test the observation spec\n",
        "game = WordleGame(find_word[random.randint(0,num_words)])\n",
        "game.guess(\"LATER\")\n",
        "print(\"Answer: \", game.answer)\n",
        "obs = get_observation_array(game)\n",
        "print(\"Tile 0 [L]: \", obs[0][ord(\"L\")-65])\n",
        "print(\"Tile 1 [A]: \", obs[1][ord(\"A\")-65])\n",
        "print(\"Tile 2 [T]: \", obs[2][ord(\"T\")-65])\n",
        "print(\"Tile 3 [E]: \", obs[3][ord(\"E\")-65])\n",
        "print(\"Tile 4 [R]: \", obs[4][ord(\"R\")-65])\n",
        "\n",
        "print(\"Current reward:\", get_reward(game))"
      ],
      "metadata": {
        "colab": {
          "base_uri": "https://localhost:8080/"
        },
        "id": "YmJ2pdkQvYrS",
        "outputId": "6c9ce846-6c32-4815-99f1-2b6eb5de48de"
      },
      "execution_count": 12,
      "outputs": [
        {
          "output_type": "stream",
          "name": "stdout",
          "text": [
            "LOGGED COLOR 1\n",
            "Answer:  BIVIA\n",
            "\n",
            "Tile 0 [L]:  [1. 0. 0.]\n",
            "Tile 1 [A]:  [0. 1. 0.]\n",
            "Tile 2 [T]:  [1. 0. 0.]\n",
            "Tile 3 [E]:  [1. 0. 0.]\n",
            "Tile 4 [R]:  [1. 0. 0.]\n",
            "Current reward: 6\n"
          ]
        }
      ]
    },
    {
      "cell_type": "code",
      "source": [
        "class WordleEnvironment(py_environment.PyEnvironment):\n",
        "  def __init__(self):\n",
        "    self._action_spec = array_spec.BoundedArraySpec(\n",
        "        shape=(), dtype=np.int32, minimum=0, maximum=num_words - 1, name='action'\n",
        "    )\n",
        "    self._observation_spec = array_spec.BoundedArraySpec(\n",
        "        shape=(wordle_rows * wordle_cols, english_letters, wordle_colors), dtype=np.int32, minimum=0, maximum=1, name='observation'\n",
        "    )\n",
        "    \n",
        "    self.game = WordleGame(find_word[random.randint(0,num_words)])\n",
        "\n",
        "  def action_spec(self):\n",
        "    return self._action_spec\n",
        "  \n",
        "  def observation_spec(self):\n",
        "    return self._observation_spec\n",
        "  \n",
        "  def _reset(self):\n",
        "    self.game = WordleGame(find_word[random.randint(0,num_words)])\n",
        "    return ts.restart(get_observation_array(self.game), get_reward(self.game)) # TODO update\n",
        "\n",
        "  def _step(self, action):\n",
        "    if self.game.is_over: \n",
        "      return self.reset()\n",
        "\n",
        "    # perform the action\n",
        "    colors = self.game.guess(find_word[action])\n",
        "\n",
        "    # return the observation state\n",
        "    # if the game is now over\n",
        "    if self.game.is_over:\n",
        "      return ts.termination(get_observation_array(self.game), get_reward(self.game))\n",
        "\n",
        "\n",
        "    \n",
        "\n",
        "\n",
        "        "
      ],
      "metadata": {
        "id": "RhzLi53QvEIn"
      },
      "execution_count": 58,
      "outputs": []
    },
    {
      "cell_type": "code",
      "source": [
        "num_iterations = 20000 # @param {type:\"integer\"}\n",
        "\n",
        "initial_collect_steps = 100  # @param {type:\"integer\"}\n",
        "collect_steps_per_iteration =   1# @param {type:\"integer\"}\n",
        "replay_buffer_max_length = 100000  # @param {type:\"integer\"}\n",
        "\n",
        "batch_size = 64  # @param {type:\"integer\"}\n",
        "learning_rate = 1e-3  # @param {type:\"number\"}\n",
        "log_interval = 200  # @param {type:\"integer\"}\n",
        "\n",
        "num_eval_episodes = 10  # @param {type:\"integer\"}\n",
        "eval_interval = 1000  # @param {type:\"integer\"}"
      ],
      "metadata": {
        "id": "V1dlDirUug_O"
      },
      "execution_count": 14,
      "outputs": []
    },
    {
      "cell_type": "markdown",
      "source": [
        "### Training"
      ],
      "metadata": {
        "id": "tJDh45LJx8ys"
      }
    },
    {
      "cell_type": "code",
      "source": [
        "train_py_env = WordleEnvironment()\n",
        "print('Observation Spec:')\n",
        "print(train_py_env.time_step_spec().observation)\n",
        "print('Reward Spec:')\n",
        "print(train_py_env.time_step_spec().reward)\n",
        "print('Action Spec:')\n",
        "print(train_py_env.action_spec())"
      ],
      "metadata": {
        "colab": {
          "base_uri": "https://localhost:8080/"
        },
        "id": "x8Zj-Wdrx_Mv",
        "outputId": "bb7e9f35-7fb5-4244-a293-8e4ec0f88360"
      },
      "execution_count": 59,
      "outputs": [
        {
          "output_type": "stream",
          "name": "stdout",
          "text": [
            "Observation Spec:\n",
            "BoundedArraySpec(shape=(30, 26, 3), dtype=dtype('int32'), name='observation', minimum=0, maximum=1)\n",
            "Reward Spec:\n",
            "ArraySpec(shape=(), dtype=dtype('float32'), name='reward')\n",
            "Action Spec:\n",
            "BoundedArraySpec(shape=(), dtype=dtype('int32'), name='action', minimum=0, maximum=12946)\n"
          ]
        }
      ]
    },
    {
      "cell_type": "code",
      "source": [
        "eval_py_env = WordleEnvironment()\n",
        "print('Observation Spec:')\n",
        "print(eval_py_env.time_step_spec().observation)\n",
        "print('Reward Spec:')\n",
        "print(eval_py_env.time_step_spec().reward)\n",
        "print('Action Spec:')\n",
        "print(eval_py_env.action_spec())"
      ],
      "metadata": {
        "colab": {
          "base_uri": "https://localhost:8080/"
        },
        "id": "s-jJHeWpQVDs",
        "outputId": "77eba361-2e19-4820-dbb3-4b3144b6bed2"
      },
      "execution_count": 60,
      "outputs": [
        {
          "output_type": "stream",
          "name": "stdout",
          "text": [
            "Observation Spec:\n",
            "BoundedArraySpec(shape=(30, 26, 3), dtype=dtype('int32'), name='observation', minimum=0, maximum=1)\n",
            "Reward Spec:\n",
            "ArraySpec(shape=(), dtype=dtype('float32'), name='reward')\n",
            "Action Spec:\n",
            "BoundedArraySpec(shape=(), dtype=dtype('int32'), name='action', minimum=0, maximum=12946)\n"
          ]
        }
      ]
    },
    {
      "cell_type": "code",
      "source": [
        "# convert to TF Environment\n",
        "train_env = tf_py_environment.TFPyEnvironment(train_py_env)\n",
        "eval_env = tf_py_environment.TFPyEnvironment(eval_py_env)"
      ],
      "metadata": {
        "id": "Zf6KNHHPD_yF"
      },
      "execution_count": 61,
      "outputs": []
    },
    {
      "cell_type": "markdown",
      "source": [
        "## Agent"
      ],
      "metadata": {
        "id": "B7IvK9aVTcgm"
      }
    },
    {
      "cell_type": "code",
      "source": [
        "layer_params = (100, 50)\n",
        "action_tensor_spec = tensor_spec.from_spec(train_env.action_spec())\n",
        "num_actions = action_tensor_spec.maximum - action_tensor_spec.minimum + 1\n",
        "num_actions"
      ],
      "metadata": {
        "colab": {
          "base_uri": "https://localhost:8080/"
        },
        "id": "poxG_R5PTi5M",
        "outputId": "ef804c15-f2ba-4d8e-f3c7-daf40289917d"
      },
      "execution_count": 62,
      "outputs": [
        {
          "output_type": "execute_result",
          "data": {
            "text/plain": [
              "12947"
            ]
          },
          "metadata": {},
          "execution_count": 62
        }
      ]
    },
    {
      "cell_type": "code",
      "source": [
        "# helper method for creating a bunch of dense layers\n",
        "def make_dense_layer(units):\n",
        "  return tf.keras.layers.Dense(\n",
        "      units,\n",
        "      activation=\"relu\",\n",
        "      kernel_initializer=tf.keras.initializers.VarianceScaling(\n",
        "          scale=2.0, mode='fan_in', distribution='truncated_normal'\n",
        "      )\n",
        "  )\n",
        "\n",
        "# create DQN \n",
        "dense_layers = [make_dense_layer(units) for units in layer_params]\n",
        "q_vals_layer = tf.keras.layers.Dense(\n",
        "    num_actions,\n",
        "    activation=None,\n",
        "    kernel_initializer=tf.keras.initializers.RandomUniform(\n",
        "        minval=-0.03, maxval=0.03\n",
        "    ),\n",
        "    bias_initializer=tf.keras.initializers.Constant(-0.2)\n",
        ")\n",
        "\n",
        "q_net = sequential.Sequential([tf.keras.layers.Flatten()] + dense_layers + [q_vals_layer])"
      ],
      "metadata": {
        "id": "rA6fQQxSTu52"
      },
      "execution_count": 68,
      "outputs": []
    },
    {
      "cell_type": "code",
      "source": [
        "train_step_counter = tf.Variable(0)\n",
        "\n",
        "agent = dqn_agent.DqnAgent(\n",
        "    train_env.time_step_spec(),\n",
        "    train_env.action_spec(),\n",
        "    q_network=q_net,\n",
        "    optimizer='adam',\n",
        "    td_errors_loss_fn=common.element_wise_squared_loss,\n",
        "    train_step_counter=train_step_counter\n",
        ")\n",
        "\n",
        "agent.initialize()"
      ],
      "metadata": {
        "id": "Ja2G8rUSaBLZ"
      },
      "execution_count": 70,
      "outputs": []
    }
  ]
}